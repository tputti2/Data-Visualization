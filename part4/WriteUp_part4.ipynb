{
 "cells": [
  {
   "cell_type": "markdown",
   "metadata": {},
   "source": [
    "                                    Write-up for the Infograph\n",
    "We chose the IMLS dataset to create the infograph because this dataset is a time series dataset and we wanted to create a story by doing two things - 1. looking at the recent year (2014) statistics and 2. comparing the trend over the past years in the dataset. The infograph shows a few visualizations that demonstrate the trend of the important metrics present in the dataset for each state in 2014 and also, over a time period of eighteen years. We used heatmaps to capture the information about all the states of the United States and trend lines to show the trend over a period of eighteen years and we found it very interesting to demonstrate. The infographic talks about three major metrics - amount of awards(grants), number of institutions and types of programs. Additionally, we covered information about number of states that are awarded and Amount requested by institutions across these states. We tried to make the infographic as informative as possible to the viewers. We are showing a trend of total amount awarded and total number of awarded grants over the period of eighteen years in this infograph. In addition to this we are also showing the distribution of awarded amounts and number of institutions across all the fifty states. This infograph gives us an idea of both how IMLS is performing now and its progress over a period of time. \n",
    "We decided to choose bright colors for this infograph as we wanted to make it catchy for the people who are looking at it and it should immediately grab their attention towards the story we are trying to deliver. Along with the visualizations we are also showing some statistics(in the form of numbers) in our infograph to make it more informative. We wanted to keep our infograph simple so that the viewer does not have to struggle much to absorb the information given on the infograph. And for this reason we are trying to give a high-level view(state level) of the IMLS dataset and hence not showing the program level or organization level view of the dataset.There are certain things that we tried but could not implement like increasing the font of a particular number while keeping the rest of the text small. The idea behind this was discussed by Pallavi and Triveni. Writeup is contributed by Pallavi and infographic by Triveni."
   ]
  }
 ],
 "metadata": {
  "anaconda-cloud": {},
  "kernelspec": {
   "display_name": "Python 2",
   "language": "python",
   "name": "python2"
  },
  "language_info": {
   "codemirror_mode": {
    "name": "ipython",
    "version": 2
   },
   "file_extension": ".py",
   "mimetype": "text/x-python",
   "name": "python",
   "nbconvert_exporter": "python",
   "pygments_lexer": "ipython2",
   "version": "2.7.13"
  }
 },
 "nbformat": 4,
 "nbformat_minor": 1
}
